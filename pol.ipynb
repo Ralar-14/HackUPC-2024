{
 "cells": [
  {
   "cell_type": "code",
   "execution_count": 49,
   "metadata": {},
   "outputs": [],
   "source": [
    "import pandas as pd\n",
    "\n",
    "def new_dataset(df_orig, colname):\n",
    "    \n",
    "    df_new = df_orig.copy()\n",
    "\n",
    "    df_new.dropna(subset=[colname], inplace=True)\n",
    "\n",
    "    def tokenize(x):\n",
    "        return x.split('///')[1].split('/')\n",
    "\n",
    "    d_p = df_new[colname].apply(tokenize)\n",
    "\n",
    "    df_new['year'] = d_p.apply(lambda x: x[0])\n",
    "    df_new['season'] = d_p.apply(lambda x: x[1])\n",
    "    df_new['type'] = d_p.apply(lambda x: x[2])\n",
    "    df_new['section'] = d_p.apply(lambda x: x[3])\n",
    "\n",
    "    return df_new"
   ]
  },
  {
   "cell_type": "code",
   "execution_count": 58,
   "metadata": {},
   "outputs": [],
   "source": [
    "org = pd.read_csv('inditextech_hackupc_challenge_images.csv', sep=',')\n",
    "\n",
    "#Añade una columna a org que sea el indice de la fila\n",
    "\n",
    "org['index'] = org.index\n",
    "\n",
    "new = new_dataset(org, \"IMAGE_VERSION_3\")"
   ]
  },
  {
   "cell_type": "code",
   "execution_count": 59,
   "metadata": {},
   "outputs": [
    {
     "data": {
      "text/html": [
       "<div>\n",
       "<style scoped>\n",
       "    .dataframe tbody tr th:only-of-type {\n",
       "        vertical-align: middle;\n",
       "    }\n",
       "\n",
       "    .dataframe tbody tr th {\n",
       "        vertical-align: top;\n",
       "    }\n",
       "\n",
       "    .dataframe thead th {\n",
       "        text-align: right;\n",
       "    }\n",
       "</style>\n",
       "<table border=\"1\" class=\"dataframe\">\n",
       "  <thead>\n",
       "    <tr style=\"text-align: right;\">\n",
       "      <th></th>\n",
       "      <th>IMAGE_VERSION_1</th>\n",
       "      <th>IMAGE_VERSION_2</th>\n",
       "      <th>IMAGE_VERSION_3</th>\n",
       "      <th>year</th>\n",
       "      <th>season</th>\n",
       "      <th>type</th>\n",
       "      <th>section</th>\n",
       "    </tr>\n",
       "  </thead>\n",
       "  <tbody>\n",
       "    <tr>\n",
       "      <th>0</th>\n",
       "      <td>https://static.zara.net/photos///2024/V/0/3/p/...</td>\n",
       "      <td>https://static.zara.net/photos///2024/V/0/3/p/...</td>\n",
       "      <td>https://static.zara.net/photos///2024/V/0/3/p/...</td>\n",
       "      <td>2024</td>\n",
       "      <td>V</td>\n",
       "      <td>0</td>\n",
       "      <td>3</td>\n",
       "    </tr>\n",
       "    <tr>\n",
       "      <th>1</th>\n",
       "      <td>https://static.zara.net/photos///2024/V/0/3/p/...</td>\n",
       "      <td>https://static.zara.net/photos///2024/V/0/3/p/...</td>\n",
       "      <td>https://static.zara.net/photos///2024/V/0/3/p/...</td>\n",
       "      <td>2024</td>\n",
       "      <td>V</td>\n",
       "      <td>0</td>\n",
       "      <td>3</td>\n",
       "    </tr>\n",
       "    <tr>\n",
       "      <th>2</th>\n",
       "      <td>https://static.zara.net/photos///2024/V/0/1/p/...</td>\n",
       "      <td>https://static.zara.net/photos///2024/V/0/1/p/...</td>\n",
       "      <td>https://static.zara.net/photos///2024/V/0/1/p/...</td>\n",
       "      <td>2024</td>\n",
       "      <td>V</td>\n",
       "      <td>0</td>\n",
       "      <td>1</td>\n",
       "    </tr>\n",
       "    <tr>\n",
       "      <th>3</th>\n",
       "      <td>https://static.zara.net/photos///2024/V/0/2/p/...</td>\n",
       "      <td>https://static.zara.net/photos///2024/V/0/2/p/...</td>\n",
       "      <td>https://static.zara.net/photos///2024/V/0/2/p/...</td>\n",
       "      <td>2024</td>\n",
       "      <td>V</td>\n",
       "      <td>0</td>\n",
       "      <td>2</td>\n",
       "    </tr>\n",
       "    <tr>\n",
       "      <th>4</th>\n",
       "      <td>https://static.zara.net/photos///2024/V/0/2/p/...</td>\n",
       "      <td>https://static.zara.net/photos///2024/V/0/2/p/...</td>\n",
       "      <td>https://static.zara.net/photos///2024/V/0/2/p/...</td>\n",
       "      <td>2024</td>\n",
       "      <td>V</td>\n",
       "      <td>0</td>\n",
       "      <td>2</td>\n",
       "    </tr>\n",
       "  </tbody>\n",
       "</table>\n",
       "</div>"
      ],
      "text/plain": [
       "                                     IMAGE_VERSION_1  \\\n",
       "0  https://static.zara.net/photos///2024/V/0/3/p/...   \n",
       "1  https://static.zara.net/photos///2024/V/0/3/p/...   \n",
       "2  https://static.zara.net/photos///2024/V/0/1/p/...   \n",
       "3  https://static.zara.net/photos///2024/V/0/2/p/...   \n",
       "4  https://static.zara.net/photos///2024/V/0/2/p/...   \n",
       "\n",
       "                                     IMAGE_VERSION_2  \\\n",
       "0  https://static.zara.net/photos///2024/V/0/3/p/...   \n",
       "1  https://static.zara.net/photos///2024/V/0/3/p/...   \n",
       "2  https://static.zara.net/photos///2024/V/0/1/p/...   \n",
       "3  https://static.zara.net/photos///2024/V/0/2/p/...   \n",
       "4  https://static.zara.net/photos///2024/V/0/2/p/...   \n",
       "\n",
       "                                     IMAGE_VERSION_3  year season type section  \n",
       "0  https://static.zara.net/photos///2024/V/0/3/p/...  2024      V    0       3  \n",
       "1  https://static.zara.net/photos///2024/V/0/3/p/...  2024      V    0       3  \n",
       "2  https://static.zara.net/photos///2024/V/0/1/p/...  2024      V    0       1  \n",
       "3  https://static.zara.net/photos///2024/V/0/2/p/...  2024      V    0       2  \n",
       "4  https://static.zara.net/photos///2024/V/0/2/p/...  2024      V    0       2  "
      ]
     },
     "execution_count": 59,
     "metadata": {},
     "output_type": "execute_result"
    }
   ],
   "source": [
    "new.head()"
   ]
  },
  {
   "cell_type": "code",
   "execution_count": 52,
   "metadata": {},
   "outputs": [
    {
     "data": {
      "text/plain": [
       "type\n",
       "0    33859\n",
       "1     5619\n",
       "2      832\n",
       "V        6\n",
       "4        1\n",
       "Name: count, dtype: int64"
      ]
     },
     "execution_count": 52,
     "metadata": {},
     "output_type": "execute_result"
    }
   ],
   "source": [
    "new['type'].value_counts()"
   ]
  },
  {
   "cell_type": "code",
   "execution_count": 60,
   "metadata": {},
   "outputs": [
    {
     "data": {
      "text/plain": [
       "type\n",
       "0    33859\n",
       "1     5619\n",
       "Name: count, dtype: int64"
      ]
     },
     "execution_count": 60,
     "metadata": {},
     "output_type": "execute_result"
    }
   ],
   "source": [
    "#Elimina de new todas las filas con tipo 2, V y 4\n",
    "\n",
    "new = new[new['type'] != '2']\n",
    "new = new[new['type'] != 'V']\n",
    "new = new[new['type'] != '4']\n",
    "\n",
    "#count distinct type\n",
    "\n",
    "new['type'].value_counts()"
   ]
  },
  {
   "cell_type": "code",
   "execution_count": 54,
   "metadata": {},
   "outputs": [
    {
     "data": {
      "text/plain": [
       "section\n",
       "3    15454\n",
       "1    14399\n",
       "2     9625\n",
       "Name: count, dtype: int64"
      ]
     },
     "execution_count": 54,
     "metadata": {},
     "output_type": "execute_result"
    }
   ],
   "source": [
    "new['section'].value_counts()"
   ]
  },
  {
   "cell_type": "code",
   "execution_count": 55,
   "metadata": {},
   "outputs": [
    {
     "name": "stdout",
     "output_type": "stream",
     "text": [
      "29771\n",
      "(39478, 7)\n"
     ]
    }
   ],
   "source": [
    "#count distinct images 3\n",
    "\n",
    "print(new['IMAGE_VERSION_3'].nunique())\n",
    "print(new.shape)"
   ]
  },
  {
   "cell_type": "code",
   "execution_count": 61,
   "metadata": {},
   "outputs": [
    {
     "data": {
      "text/plain": [
       "(29771, 7)"
      ]
     },
     "execution_count": 61,
     "metadata": {},
     "output_type": "execute_result"
    }
   ],
   "source": [
    "#Eliminar filas con links repetidos\n",
    "\n",
    "new = new.drop_duplicates(subset='IMAGE_VERSION_3')\n",
    "new.shape\n"
   ]
  },
  {
   "cell_type": "code",
   "execution_count": 63,
   "metadata": {},
   "outputs": [],
   "source": [
    "#New = las 3 primeras columnas de new\n",
    "\n",
    "new = new[['IMAGE_VERSION_1', 'IMAGE_VERSION_2', 'IMAGE_VERSION_3']]"
   ]
  },
  {
   "cell_type": "code",
   "execution_count": 64,
   "metadata": {},
   "outputs": [],
   "source": [
    "new.to_csv('new_dataset.csv', index=False)"
   ]
  }
 ],
 "metadata": {
  "kernelspec": {
   "display_name": "Python 3",
   "language": "python",
   "name": "python3"
  },
  "language_info": {
   "codemirror_mode": {
    "name": "ipython",
    "version": 3
   },
   "file_extension": ".py",
   "mimetype": "text/x-python",
   "name": "python",
   "nbconvert_exporter": "python",
   "pygments_lexer": "ipython3",
   "version": "3.9.6"
  }
 },
 "nbformat": 4,
 "nbformat_minor": 2
}
